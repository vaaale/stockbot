{
 "cells": [
  {
   "cell_type": "code",
   "execution_count": 1,
   "metadata": {},
   "outputs": [
    {
     "name": "stderr",
     "output_type": "stream",
     "text": [
      "/usr/local/lib/python3.6/dist-packages/h5py/__init__.py:36: FutureWarning: Conversion of the second argument of issubdtype from `float` to `np.floating` is deprecated. In future, it will be treated as `np.float64 == np.dtype(float).type`.\n",
      "  from ._conv import register_converters as _register_converters\n"
     ]
    },
    {
     "name": "stdout",
     "output_type": "stream",
     "text": [
      "(32, 15, 1)\n",
      "(32, 15, 3)\n",
      "WARNING:tensorflow:From /usr/local/lib/python3.6/dist-packages/tensorflow/contrib/learn/python/learn/datasets/base.py:198: retry (from tensorflow.contrib.learn.python.learn.datasets.base) is deprecated and will be removed in a future version.\n",
      "Instructions for updating:\n",
      "Use the retry module or similar alternatives.\n"
     ]
    }
   ],
   "source": [
    "from __future__ import print_function, division\n",
    "import numpy as np\n",
    "import tensorflow as tf\n",
    "import matplotlib.pyplot as plt\n",
    "import random\n",
    "import pandas as pd\n",
    "\n",
    "num_periods = 15\n",
    "f_horizon = 1\n",
    "\n",
    "num_input = 1\n",
    "state_size = 50\n",
    "num_classes = 3\n",
    "output = 1\n",
    "dropout = 0.5\n",
    "num_layers = 2\n",
    "\n",
    "num_epochs = 50\n",
    "batch_size = 32\n",
    "num_batches = 300\n",
    "learning_rate = 0.001\n",
    "\n",
    "random.seed(111)\n",
    "\n",
    "onehot = np.identity(3)\n",
    "def generate_batch(batch_size, num_periods, f_horizon):\n",
    "    nb_samples = batch_size * num_periods + f_horizon\n",
    "    rng = pd.date_range(start='2000', periods=nb_samples, freq='M')\n",
    "    ts = pd.Series(np.random.uniform(-10, 10, size=len(rng)), rng).cumsum()\n",
    "\n",
    "    x_data = ts[:(len(ts) - (len(ts) % num_periods))]\n",
    "    x_batches = x_data.values.reshape(-1, num_periods, 1)\n",
    "\n",
    "    # y_data = ts[1:(len(ts) - (len(ts) % num_periods)) + f_horizon]\n",
    "    # y_batches = y_data.values.reshape(-1, num_periods, 1)\n",
    "    y_data = np.eye(num_classes)[np.random.choice(num_classes, batch_size * num_periods)]\n",
    "    y_batches = y_data.reshape(-1, num_periods, num_classes)\n",
    "\n",
    "    return x_batches, y_batches\n",
    "\n",
    "\n",
    "x, y = generate_batch(batch_size, num_periods, f_horizon)\n",
    "\n",
    "print(x.shape)\n",
    "print(y.shape)\n",
    "np.random.choice([0, 1, 2], 5, p=[0.5, 0.25, 0.25])\n",
    "\n",
    "# Create model\n",
    "def create_model(batchX, batchY, init_state):\n",
    "    state_per_layer_list = tf.unstack(init_state, axis=0)\n",
    "    rnn_tuple_state = tuple(\n",
    "        [tf.nn.rnn_cell.LSTMStateTuple(state_per_layer_list[idx][0], state_per_layer_list[idx][1])\n",
    "         for idx in range(num_layers)]\n",
    "    )\n",
    "\n",
    "\n",
    "    cells = [tf.contrib.rnn.BasicLSTMCell(num_units=state_size, activation=tf.nn.relu, state_is_tuple=True) for _ in range(num_layers)]\n",
    "    # cells = [tf.contrib.rnn.DropoutWrapper(cell, output_keep_prob=dropout) for cell in cells]\n",
    "    cell = tf.nn.rnn_cell.MultiRNNCell(cells, state_is_tuple=True)\n",
    "    states_series, current_state = tf.nn.dynamic_rnn(cell, batchX, initial_state=rnn_tuple_state)\n",
    "    states_series = tf.reshape(states_series, [-1, state_size])\n",
    "\n",
    "    stacked_rnn_output = tf.reshape(states_series, [-1, state_size])\n",
    "    stacked_outputs = tf.layers.dense(stacked_rnn_output, output)\n",
    "    logits = tf.layers.dense(stacked_outputs, num_classes)\n",
    "\n",
    "    outputs = tf.argmax(tf.nn.softmax(logits), 1)\n",
    "\n",
    "    loss = tf.nn.softmax_cross_entropy_with_logits_v2(logits=logits, labels=batchY)\n",
    "    total_loss = tf.reduce_mean(loss)\n",
    "\n",
    "    return current_state, loss, total_loss, logits, outputs\n",
    "\n",
    "\n",
    "# Define placeholders\n",
    "batchX_placeholder = tf.placeholder(tf.float32, [batch_size, None, num_input], name='PL_X')\n",
    "batchY_placeholder = tf.placeholder(tf.float32, [batch_size, None, num_classes], name='PL_Y')\n",
    "init_state_placeholder = tf.placeholder(tf.float32, [num_layers, 2, batch_size, state_size], name='PL_init_state')\n",
    "\n",
    "# Build model\n",
    "current_state, loss, total_loss, logits, outputs = create_model(batchX_placeholder, batchY_placeholder, init_state_placeholder)\n",
    "\n",
    "# Build training step\n",
    "optimizer = tf.train.AdamOptimizer(learning_rate=learning_rate)\n",
    "train_step = optimizer.minimize(loss)\n",
    "\n"
   ]
  },
  {
   "cell_type": "code",
   "execution_count": 2,
   "metadata": {},
   "outputs": [],
   "source": [
    "x, y = generate_batch(batch_size, num_periods, f_horizon)"
   ]
  },
  {
   "cell_type": "code",
   "execution_count": 3,
   "metadata": {},
   "outputs": [],
   "source": [
    "x_sample = x[:,0:1,:]\n",
    "y_sample = y[:,0:1,:]"
   ]
  },
  {
   "cell_type": "code",
   "execution_count": null,
   "metadata": {},
   "outputs": [],
   "source": []
  },
  {
   "cell_type": "code",
   "execution_count": 4,
   "metadata": {},
   "outputs": [],
   "source": [
    "with tf.Session() as sess:\n",
    "    sess.run(tf.global_variables_initializer())\n",
    "    # Add ops to save and restore all the variables.\n",
    "    saver = tf.train.Saver()\n",
    "    _current_state = np.zeros((num_layers, 2, batch_size, state_size))\n",
    "    \n",
    "    _outputs = sess.run([outputs], feed_dict={\n",
    "                    batchX_placeholder: x_sample,\n",
    "                    batchY_placeholder: y_sample,\n",
    "                    init_state_placeholder: _current_state\n",
    "                })\n",
    "\n"
   ]
  },
  {
   "cell_type": "code",
   "execution_count": 5,
   "metadata": {},
   "outputs": [
    {
     "data": {
      "text/plain": [
       "[array([0, 0, 0, 2, 2, 2, 0, 0, 2, 2, 2, 2, 2, 2, 2, 2, 2, 2, 2, 2, 2, 0,\n",
       "        0, 0, 0, 2, 2, 2, 2, 2, 2, 2])]"
      ]
     },
     "execution_count": 5,
     "metadata": {},
     "output_type": "execute_result"
    }
   ],
   "source": [
    "_outputs"
   ]
  },
  {
   "cell_type": "code",
   "execution_count": 6,
   "metadata": {},
   "outputs": [
    {
     "data": {
      "text/plain": [
       "32"
      ]
     },
     "execution_count": 6,
     "metadata": {},
     "output_type": "execute_result"
    }
   ],
   "source": [
    "len(_outputs[0])"
   ]
  },
  {
   "cell_type": "code",
   "execution_count": null,
   "metadata": {},
   "outputs": [],
   "source": []
  }
 ],
 "metadata": {
  "kernelspec": {
   "display_name": "Python 3",
   "language": "python",
   "name": "python3"
  },
  "language_info": {
   "codemirror_mode": {
    "name": "ipython",
    "version": 3
   },
   "file_extension": ".py",
   "mimetype": "text/x-python",
   "name": "python",
   "nbconvert_exporter": "python",
   "pygments_lexer": "ipython3",
   "version": "3.6.3"
  }
 },
 "nbformat": 4,
 "nbformat_minor": 2
}
