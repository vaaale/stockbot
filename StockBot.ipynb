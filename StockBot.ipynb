{
 "cells": [
  {
   "cell_type": "code",
   "execution_count": 1,
   "metadata": {},
   "outputs": [
    {
     "name": "stdout",
     "output_type": "stream",
     "text": [
      "(32, 15, 1)\n(32, 15, 3)\n"
     ]
    },
    {
     "name": "stdout",
     "output_type": "stream",
     "text": [
      "WARNING:tensorflow:From C:\\Users\\alex\\Anaconda3\\lib\\site-packages\\tensorflow\\contrib\\learn\\python\\learn\\datasets\\base.py:198: retry (from tensorflow.contrib.learn.python.learn.datasets.base) is deprecated and will be removed in a future version.\nInstructions for updating:\nUse the retry module or similar alternatives.\n"
     ]
    }
   ],
   "source": [
    "from __future__ import print_function, division\n",
    "import numpy as np\n",
    "import tensorflow as tf\n",
    "import matplotlib.pyplot as plt\n",
    "import random\n",
    "import pandas as pd\n",
    "from game import Game\n",
    "\n",
    "num_periods = 15\n",
    "f_horizon = 1\n",
    "\n",
    "num_input = 1\n",
    "state_size = 50\n",
    "num_classes = 3\n",
    "output = 1\n",
    "dropout = 0.5\n",
    "num_layers = 2\n",
    "\n",
    "num_epochs = 50\n",
    "batch_size = 32\n",
    "num_batches = 300\n",
    "learning_rate = 0.001\n",
    "\n",
    "random.seed(111)\n",
    "\n",
    "# onehot = np.identity(3)\n",
    "def generate_batch(batch_size, num_periods, f_horizon):\n",
    "    if num_periods > f_horizon:\n",
    "        nb_samples = batch_size * num_periods + f_horizon\n",
    "    else:\n",
    "        nb_samples = batch_size * num_periods\n",
    "        \n",
    "    rng = pd.date_range(start='2000', periods=nb_samples, freq='M')\n",
    "    ts = pd.Series(np.random.uniform(-10, 10, size=len(rng)), rng).cumsum()\n",
    "\n",
    "    x_data = ts[:(len(ts) - (len(ts) % num_periods))]\n",
    "    x_batches = x_data.values.reshape(-1, num_periods, 1)\n",
    "\n",
    "    # y_data = ts[1:(len(ts) - (len(ts) % num_periods)) + f_horizon]\n",
    "    # y_batches = y_data.values.reshape(-1, num_periods, 1)\n",
    "    y_data = np.eye(num_classes)[np.random.choice(num_classes, batch_size * num_periods)]\n",
    "    y_batches = y_data.reshape(-1, num_periods, num_classes)\n",
    "\n",
    "    return x_batches, y_batches\n",
    "\n",
    "\n",
    "x, y = generate_batch(batch_size, num_periods, f_horizon)\n",
    "\n",
    "print(x.shape)\n",
    "print(y.shape)\n",
    "np.random.choice([0, 1, 2], 5, p=[0.5, 0.25, 0.25])\n",
    "\n",
    "\n",
    "# Create model\n",
    "def create_model(batchX, batchY, init_state):\n",
    "    state_per_layer_list = tf.unstack(init_state, axis=0)\n",
    "    rnn_tuple_state = tuple(\n",
    "        [tf.nn.rnn_cell.LSTMStateTuple(state_per_layer_list[idx][0], state_per_layer_list[idx][1])\n",
    "         for idx in range(num_layers)]\n",
    "    )\n",
    "\n",
    "    cells = [tf.contrib.rnn.BasicLSTMCell(num_units=state_size, activation=tf.nn.relu, state_is_tuple=True) for _ in range(num_layers)]\n",
    "    # cells = [tf.contrib.rnn.DropoutWrapper(cell, output_keep_prob=dropout) for cell in cells]\n",
    "    cell = tf.nn.rnn_cell.MultiRNNCell(cells, state_is_tuple=True)\n",
    "    states_series, current_state = tf.nn.dynamic_rnn(cell, batchX, initial_state=rnn_tuple_state)\n",
    "\n",
    "    logits = tf.layers.dense(states_series, num_classes, activation=tf.nn.sigmoid)\n",
    "    soft_logits = tf.nn.softmax(logits)\n",
    "    outputs = tf.argmax(soft_logits, 2)\n",
    "\n",
    "    loss = tf.nn.softmax_cross_entropy_with_logits_v2(logits=logits, labels=batchY)\n",
    "    total_loss = tf.reduce_mean(loss)\n",
    "\n",
    "    return current_state, loss, total_loss, logits, outputs\n",
    "\n",
    "\n",
    "# Define placeholders\n",
    "batchX_placeholder = tf.placeholder(tf.float32, [batch_size, None, num_input], name='PL_X')\n",
    "batchY_placeholder = tf.placeholder(tf.float32, [batch_size, None, num_classes], name='PL_Y')\n",
    "init_state_placeholder = tf.placeholder(tf.float32, [num_layers, 2, batch_size, state_size], name='PL_init_state')\n",
    "\n",
    "# Build model\n",
    "current_state, loss, total_loss, logits, outputs = create_model(batchX_placeholder, batchY_placeholder, init_state_placeholder)\n",
    "\n",
    "# Build training step\n",
    "optimizer = tf.train.AdamOptimizer(learning_rate=learning_rate)\n",
    "train_step = optimizer.minimize(loss)\n",
    "\n"
   ]
  },
  {
   "cell_type": "code",
   "execution_count": 2,
   "metadata": {},
   "outputs": [],
   "source": [
    "x, y = generate_batch(batch_size, 2, f_horizon)"
   ]
  },
  {
   "cell_type": "code",
   "execution_count": 3,
   "metadata": {},
   "outputs": [
    {
     "data": {
      "text/plain": [
       "(32, 2, 1)"
      ]
     },
     "execution_count": 3,
     "metadata": {},
     "output_type": "execute_result"
    }
   ],
   "source": [
    "x.shape"
   ]
  },
  {
   "cell_type": "code",
   "execution_count": 4,
   "metadata": {},
   "outputs": [
    {
     "data": {
      "text/plain": [
       "(32, 2, 3)"
      ]
     },
     "execution_count": 4,
     "metadata": {},
     "output_type": "execute_result"
    }
   ],
   "source": [
    "y.shape"
   ]
  },
  {
   "cell_type": "code",
   "execution_count": 5,
   "metadata": {},
   "outputs": [],
   "source": [
    "with tf.Session() as sess:\n",
    "    sess.run(tf.global_variables_initializer())\n",
    "    # Add ops to save and restore all the variables.\n",
    "    saver = tf.train.Saver()\n",
    "    _current_state = np.zeros((num_layers, 2, batch_size, state_size))\n",
    "    \n",
    "    x, y = generate_batch(batch_size, 2, f_horizon)\n",
    "    \n",
    "    _outputs = sess.run([outputs], feed_dict={\n",
    "                    batchX_placeholder: x,\n",
    "                    batchY_placeholder: y,\n",
    "                    init_state_placeholder: _current_state\n",
    "                })\n",
    "\n"
   ]
  },
  {
   "cell_type": "code",
   "execution_count": 6,
   "metadata": {},
   "outputs": [
    {
     "data": {
      "text/plain": [
       "array([[2, 2],\n       [2, 2],\n       [1, 2],\n       [1, 2],\n       [2, 2],\n       [2, 2],\n       [2, 2],\n       [2, 2],\n       [1, 1],\n       [1, 2],\n       [1, 1],\n       [1, 1],\n       [1, 1],\n       [1, 1],\n       [1, 1],\n       [1, 1],\n       [1, 1],\n       [1, 1],\n       [1, 1],\n       [1, 1],\n       [1, 1],\n       [1, 1],\n       [1, 1],\n       [1, 1],\n       [1, 1],\n       [1, 1],\n       [1, 1],\n       [1, 1],\n       [1, 1],\n       [1, 1],\n       [1, 1],\n       [1, 1]], dtype=int64)"
      ]
     },
     "execution_count": 6,
     "metadata": {},
     "output_type": "execute_result"
    }
   ],
   "source": [
    "_outputs[0]"
   ]
  },
  {
   "cell_type": "markdown",
   "metadata": {},
   "source": [
    "So given input x containing batch_size samples, the model predicts _outputs actions."
   ]
  },
  {
   "cell_type": "code",
   "execution_count": 7,
   "metadata": {},
   "outputs": [
    {
     "data": {
      "text/plain": [
       "(32, 2, 1)"
      ]
     },
     "execution_count": 7,
     "metadata": {},
     "output_type": "execute_result"
    }
   ],
   "source": [
    "\n",
    "x.shape"
   ]
  },
  {
   "cell_type": "code",
   "execution_count": 10,
   "metadata": {},
   "outputs": [
    {
     "ename": "SyntaxError",
     "evalue": "invalid syntax (<ipython-input-10-a79f52cfbf62>, line 1)",
     "traceback": [
      "\u001b[0;36m  File \u001b[0;32m\"<ipython-input-10-a79f52cfbf62>\"\u001b[0;36m, line \u001b[0;32m1\u001b[0m\n\u001b[0;31m    _outputs[0.shape\u001b[0m\n\u001b[0m                   ^\u001b[0m\n\u001b[0;31mSyntaxError\u001b[0m\u001b[0;31m:\u001b[0m invalid syntax\n"
     ],
     "output_type": "error"
    }
   ],
   "source": [
    "_outputs[0.shape"
   ]
  },
  {
   "cell_type": "code",
   "execution_count": 16,
   "metadata": {},
   "outputs": [
    {
     "ename": "IndexError",
     "evalue": "index 32 is out of bounds for axis 0 with size 32",
     "traceback": [
      "\u001b[0;31m---------------------------------------------------------------------------\u001b[0m",
      "\u001b[0;31mIndexError\u001b[0m                                Traceback (most recent call last)",
      "\u001b[0;32m<ipython-input-16-d608f8221514>\u001b[0m in \u001b[0;36m<module>\u001b[0;34m()\u001b[0m\n\u001b[1;32m      1\u001b[0m \u001b[0menv\u001b[0m \u001b[1;33m=\u001b[0m \u001b[0mGame\u001b[0m\u001b[1;33m(\u001b[0m\u001b[0mbatch_size\u001b[0m\u001b[1;33m)\u001b[0m\u001b[1;33m\u001b[0m\u001b[0m\n\u001b[0;32m----> 2\u001b[0;31m \u001b[0msomething\u001b[0m \u001b[1;33m=\u001b[0m \u001b[0menv\u001b[0m\u001b[1;33m.\u001b[0m\u001b[0mstep\u001b[0m\u001b[1;33m(\u001b[0m\u001b[0mx\u001b[0m\u001b[1;33m.\u001b[0m\u001b[0mreshape\u001b[0m\u001b[1;33m(\u001b[0m\u001b[1;33m-\u001b[0m\u001b[1;36m1\u001b[0m\u001b[1;33m)\u001b[0m\u001b[1;33m.\u001b[0m\u001b[0mtolist\u001b[0m\u001b[1;33m(\u001b[0m\u001b[1;33m)\u001b[0m\u001b[1;33m,\u001b[0m \u001b[0m_outputs\u001b[0m\u001b[1;33m[\u001b[0m\u001b[1;36m0\u001b[0m\u001b[1;33m]\u001b[0m\u001b[1;33m.\u001b[0m\u001b[0mtolist\u001b[0m\u001b[1;33m(\u001b[0m\u001b[1;33m)\u001b[0m\u001b[1;33m)\u001b[0m\u001b[1;33m\u001b[0m\u001b[0m\n\u001b[0m\u001b[1;32m      3\u001b[0m \u001b[0mprint\u001b[0m\u001b[1;33m(\u001b[0m\u001b[0msomething\u001b[0m\u001b[1;33m)\u001b[0m\u001b[1;33m\u001b[0m\u001b[0m\n\u001b[1;32m      4\u001b[0m \u001b[0mprint\u001b[0m\u001b[1;33m(\u001b[0m\u001b[0mlen\u001b[0m\u001b[1;33m(\u001b[0m\u001b[0msomething\u001b[0m\u001b[1;33m)\u001b[0m\u001b[1;33m)\u001b[0m\u001b[1;33m\u001b[0m\u001b[0m\n",
      "\u001b[0;32mC:\\Users\\alex\\PycharmProjects\\stockbot\\game.py\u001b[0m in \u001b[0;36mstep\u001b[0;34m(self, observations, actions)\u001b[0m\n\u001b[1;32m     46\u001b[0m                 \u001b[0mself\u001b[0m\u001b[1;33m.\u001b[0m\u001b[0m_sell\u001b[0m\u001b[1;33m(\u001b[0m\u001b[0mrow\u001b[0m\u001b[1;33m,\u001b[0m \u001b[0mob\u001b[0m\u001b[1;33m)\u001b[0m\u001b[1;33m\u001b[0m\u001b[0m\n\u001b[1;32m     47\u001b[0m             \u001b[1;32melif\u001b[0m \u001b[0mself\u001b[0m\u001b[1;33m.\u001b[0m\u001b[0mAC_INVEST\u001b[0m \u001b[1;33m==\u001b[0m \u001b[0mac\u001b[0m\u001b[1;33m:\u001b[0m\u001b[1;33m\u001b[0m\u001b[0m\n\u001b[0;32m---> 48\u001b[0;31m                 \u001b[0mself\u001b[0m\u001b[1;33m.\u001b[0m\u001b[0m_invest\u001b[0m\u001b[1;33m(\u001b[0m\u001b[0mrow\u001b[0m\u001b[1;33m,\u001b[0m \u001b[0mob\u001b[0m\u001b[1;33m)\u001b[0m\u001b[1;33m\u001b[0m\u001b[0m\n\u001b[0m\u001b[1;32m     49\u001b[0m             \u001b[1;32melif\u001b[0m \u001b[0mself\u001b[0m\u001b[1;33m.\u001b[0m\u001b[0mAC_NOTHING\u001b[0m \u001b[1;33m==\u001b[0m \u001b[0mac\u001b[0m\u001b[1;33m:\u001b[0m\u001b[1;33m\u001b[0m\u001b[0m\n\u001b[1;32m     50\u001b[0m                 \u001b[0mself\u001b[0m\u001b[1;33m.\u001b[0m\u001b[0m_nothing\u001b[0m\u001b[1;33m(\u001b[0m\u001b[0mrow\u001b[0m\u001b[1;33m,\u001b[0m \u001b[0mob\u001b[0m\u001b[1;33m)\u001b[0m\u001b[1;33m\u001b[0m\u001b[0m\n",
      "\u001b[0;32mC:\\Users\\alex\\PycharmProjects\\stockbot\\game.py\u001b[0m in \u001b[0;36m_invest\u001b[0;34m(self, row, _ob)\u001b[0m\n\u001b[1;32m     30\u001b[0m \u001b[1;33m\u001b[0m\u001b[0m\n\u001b[1;32m     31\u001b[0m     \u001b[1;32mdef\u001b[0m \u001b[0m_invest\u001b[0m\u001b[1;33m(\u001b[0m\u001b[0mself\u001b[0m\u001b[1;33m,\u001b[0m \u001b[0mrow\u001b[0m\u001b[1;33m,\u001b[0m \u001b[0m_ob\u001b[0m\u001b[1;33m)\u001b[0m\u001b[1;33m:\u001b[0m\u001b[1;33m\u001b[0m\u001b[0m\n\u001b[0;32m---> 32\u001b[0;31m         \u001b[0m_state\u001b[0m \u001b[1;33m=\u001b[0m \u001b[0mself\u001b[0m\u001b[1;33m.\u001b[0m\u001b[0mstates\u001b[0m\u001b[1;33m[\u001b[0m\u001b[0mrow\u001b[0m\u001b[1;33m]\u001b[0m\u001b[1;33m\u001b[0m\u001b[0m\n\u001b[0m\u001b[1;32m     33\u001b[0m \u001b[1;33m\u001b[0m\u001b[0m\n\u001b[1;32m     34\u001b[0m         \u001b[1;32mif\u001b[0m \u001b[0mself\u001b[0m\u001b[1;33m.\u001b[0m\u001b[0mST_NOT_INVESTED\u001b[0m \u001b[1;33m==\u001b[0m \u001b[0m_state\u001b[0m\u001b[1;33m:\u001b[0m\u001b[1;33m\u001b[0m\u001b[0m\n",
      "\u001b[0;31mIndexError\u001b[0m: index 32 is out of bounds for axis 0 with size 32"
     ],
     "output_type": "error"
    }
   ],
   "source": [
    "env = Game(batch_size)\n",
    "something = env.play(x, _outputs[0])\n",
    "print(something)\n",
    "print(len(something))"
   ]
  },
  {
   "cell_type": "code",
   "execution_count": 71,
   "metadata": {},
   "outputs": [],
   "source": [
    ""
   ]
  },
  {
   "cell_type": "code",
   "execution_count": 11,
   "metadata": {},
   "outputs": [],
   "source": [
    ""
   ]
  },
  {
   "cell_type": "code",
   "execution_count": null,
   "metadata": {},
   "outputs": [],
   "source": [
    ""
   ]
  }
 ],
 "metadata": {
  "kernelspec": {
   "display_name": "Python 3",
   "language": "python",
   "name": "python3"
  },
  "language_info": {
   "codemirror_mode": {
    "name": "ipython",
    "version": 3
   },
   "file_extension": ".py",
   "mimetype": "text/x-python",
   "name": "python",
   "nbconvert_exporter": "python",
   "pygments_lexer": "ipython3",
   "version": "3.6.3"
  }
 },
 "nbformat": 4,
 "nbformat_minor": 2
}
