{
 "cells": [
  {
   "cell_type": "code",
   "execution_count": 2,
   "metadata": {},
   "outputs": [
    {
     "name": "stdout",
     "output_type": "stream",
     "text": [
      "X-shape: (32, 15, 1)\n",
      "Y-shape: (32,)\n"
     ]
    }
   ],
   "source": [
    "from __future__ import print_function, division\n",
    "import numpy as np\n",
    "import tensorflow as tf\n",
    "import matplotlib.pyplot as plt\n",
    "import random\n",
    "import pandas as pd\n",
    "from game import Game\n",
    "\n",
    "num_periods = 15\n",
    "f_horizon = 1\n",
    "\n",
    "num_input = 1\n",
    "state_size = 50\n",
    "num_classes = 3\n",
    "output = 1\n",
    "dropout = 0.5\n",
    "num_layers = 2\n",
    "\n",
    "num_epochs = 50\n",
    "batch_size = 32\n",
    "num_batches = 300\n",
    "learning_rate = 0.001\n",
    "\n",
    "random.seed(111)\n",
    "\n",
    "# onehot = np.identity(3)\n",
    "def generate_batch(batch_size, num_periods, f_horizon):\n",
    "    x_batches = np.random.uniform(-10, 10, size=[batch_size, num_periods]).cumsum(axis=1).reshape([-1, num_periods, 1])\n",
    "    y_batches = np.random.choice(num_classes, batch_size)\n",
    "    return x_batches, y_batches\n",
    "\n",
    "\n",
    "x, y = generate_batch(batch_size, num_periods, f_horizon)\n",
    "\n",
    "print('X-shape: {}'.format(x.shape))\n",
    "print('Y-shape: {}'.format(y.shape))\n"
   ]
  },
  {
   "cell_type": "code",
   "execution_count": null,
   "metadata": {},
   "outputs": [],
   "source": []
  },
  {
   "cell_type": "code",
   "execution_count": 3,
   "metadata": {},
   "outputs": [
    {
     "name": "stdout",
     "output_type": "stream",
     "text": [
      "WARNING:tensorflow:From /usr/local/lib/python3.6/dist-packages/tensorflow/python/util/deprecation.py:497: calling conv1d (from tensorflow.python.ops.nn_ops) with data_format=NHWC is deprecated and will be removed in a future version.\n",
      "Instructions for updating:\n",
      "`NHWC` for data_format is deprecated, use `NWC` instead\n"
     ]
    }
   ],
   "source": [
    "# Create model\n",
    "def create_model(batchX, batchY, advantage):\n",
    "    conv1 = tf.layers.conv1d(inputs=batchX, data_format='channels_last', filters=18, kernel_size=2, strides=1, padding='same', activation = tf.nn.tanh)\n",
    "    conv2 = tf.layers.conv1d(inputs=conv1, data_format='channels_last', filters=36, kernel_size=2, strides=1, padding='same', activation = tf.nn.tanh)\n",
    "    flat = tf.reshape(conv2, (-1, 36*num_periods))\n",
    "    logits = tf.layers.dense(flat, 3)\n",
    "\n",
    "    outputs = tf.multinomial(logits, 1)\n",
    "    logprob = -tf.nn.sparse_softmax_cross_entropy_with_logits(labels=batchY, logits=logits)\n",
    "    loss = -tf.reduce_mean(logprob * advantage)\n",
    "    return loss, outputs, logits\n",
    "\n",
    "\n",
    "# Define placeholders\n",
    "batchX_placeholder = tf.placeholder(tf.float32, [batch_size, num_periods, num_input], name='PL_X')\n",
    "batchY_placeholder = tf.placeholder(tf.int32, [batch_size], name='PL_Y')\n",
    "advantage_placeholder = tf.placeholder(tf.float32, [batch_size], name='PL_ADV')\n",
    "\n",
    "# Build model\n",
    "loss, outputs, logits = create_model(batchX_placeholder, batchY_placeholder, advantage_placeholder)\n",
    "\n",
    "# Build training step\n",
    "optimizer = tf.train.AdamOptimizer(learning_rate=learning_rate)\n",
    "train_step = optimizer.minimize(loss)\n",
    "\n"
   ]
  },
  {
   "cell_type": "code",
   "execution_count": 4,
   "metadata": {},
   "outputs": [],
   "source": [
    "with tf.Session() as sess:\n",
    "    sess.run(tf.global_variables_initializer())\n",
    "    # Add ops to save and restore all the variables.\n",
    "    saver = tf.train.Saver()\n",
    "    \n",
    "    x, y = generate_batch(batch_size, num_periods, f_horizon)\n",
    "    \n",
    "    _loss, _logits, _outputs = sess.run([loss, logits, outputs], feed_dict={\n",
    "                    batchX_placeholder: x,\n",
    "                    batchY_placeholder: y,\n",
    "                    advantage_placeholder: y\n",
    "                })\n",
    "\n"
   ]
  },
  {
   "cell_type": "code",
   "execution_count": 5,
   "metadata": {},
   "outputs": [
    {
     "data": {
      "text/plain": [
       "(32, 3)"
      ]
     },
     "execution_count": 5,
     "metadata": {},
     "output_type": "execute_result"
    }
   ],
   "source": [
    "_logits.shape"
   ]
  },
  {
   "cell_type": "code",
   "execution_count": 6,
   "metadata": {},
   "outputs": [
    {
     "data": {
      "text/plain": [
       "(32, 1)"
      ]
     },
     "execution_count": 6,
     "metadata": {},
     "output_type": "execute_result"
    }
   ],
   "source": [
    "_outputs.shape"
   ]
  },
  {
   "cell_type": "code",
   "execution_count": null,
   "metadata": {},
   "outputs": [],
   "source": []
  },
  {
   "cell_type": "code",
   "execution_count": null,
   "metadata": {},
   "outputs": [],
   "source": [
    "env = Game(batch_size, num_periods)\n",
    "something = env.play(x, _outputs[0])\n",
    "print(something)\n",
    "print(len(something))"
   ]
  },
  {
   "cell_type": "code",
   "execution_count": null,
   "metadata": {},
   "outputs": [],
   "source": []
  },
  {
   "cell_type": "code",
   "execution_count": null,
   "metadata": {},
   "outputs": [],
   "source": []
  },
  {
   "cell_type": "code",
   "execution_count": null,
   "metadata": {},
   "outputs": [],
   "source": []
  }
 ],
 "metadata": {
  "kernelspec": {
   "display_name": "Python 3",
   "language": "python",
   "name": "python3"
  },
  "language_info": {
   "codemirror_mode": {
    "name": "ipython",
    "version": 3
   },
   "file_extension": ".py",
   "mimetype": "text/x-python",
   "name": "python",
   "nbconvert_exporter": "python",
   "pygments_lexer": "ipython3",
   "version": "3.6.3"
  },
  "latex_envs": {
   "LaTeX_envs_menu_present": true,
   "autoclose": false,
   "autocomplete": true,
   "bibliofile": "biblio.bib",
   "cite_by": "apalike",
   "current_citInitial": 1,
   "eqLabelWithNumbers": true,
   "eqNumInitial": 1,
   "hotkeys": {
    "equation": "Ctrl-E",
    "itemize": "Ctrl-I"
   },
   "labels_anchors": false,
   "latex_user_defs": false,
   "report_style_numbering": false,
   "user_envs_cfg": false
  }
 },
 "nbformat": 4,
 "nbformat_minor": 2
}
